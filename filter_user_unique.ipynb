{
 "cells": [
  {
   "cell_type": "code",
   "execution_count": 1,
   "id": "d309f67e",
   "metadata": {},
   "outputs": [],
   "source": [
    "import pandas as pd\n",
    "\n",
    "df = pd.read_csv(r\"D:\\UIT\\DS200\\Hashtag Analysis\\IE403.P21_Social_Media_Data_Mining\\user_recrawl2_3.csv\")"
   ]
  },
  {
   "cell_type": "code",
   "execution_count": 8,
   "id": "472004ee",
   "metadata": {},
   "outputs": [
    {
     "name": "stderr",
     "output_type": "stream",
     "text": [
      "c:\\Users\\duong\\anaconda3\\Lib\\site-packages\\numpy\\core\\fromnumeric.py:59: FutureWarning: 'DataFrame.swapaxes' is deprecated and will be removed in a future version. Please use 'DataFrame.transpose' instead.\n",
      "  return bound(*args, **kwds)\n"
     ]
    }
   ],
   "source": [
    "import numpy as np\n",
    "parts = np.array_split(df, 8)\n",
    "\n",
    "part1 = parts[0]\n",
    "part2 = parts[1]\n",
    "part3 = parts[2]\n",
    "part4 = parts[3]\n",
    "part5 = parts[4]\n",
    "part6 = parts[5]\n",
    "part7 = parts[6]\n",
    "part8 = parts[7]"
   ]
  },
  {
   "cell_type": "code",
   "execution_count": 9,
   "id": "c13a4713",
   "metadata": {},
   "outputs": [],
   "source": [
    "part1.to_csv(r\"D:\\UIT\\DS200\\Hashtag Analysis\\IE403.P21_Social_Media_Data_Mining\\finalProject\\data\\recrawled_user_video_part_1.csv\")\n",
    "part2.to_csv(r\"D:\\UIT\\DS200\\Hashtag Analysis\\IE403.P21_Social_Media_Data_Mining\\finalProject\\data\\recrawled_user_video_part_2.csv\")\n",
    "part3.to_csv(r\"D:\\UIT\\DS200\\Hashtag Analysis\\IE403.P21_Social_Media_Data_Mining\\finalProject\\data\\recrawled_user_video_part_3.csv\")\n",
    "part4.to_csv(r\"D:\\UIT\\DS200\\Hashtag Analysis\\IE403.P21_Social_Media_Data_Mining\\finalProject\\data\\recrawled_user_video_part_4.csv\")\n",
    "part5.to_csv(r\"D:\\UIT\\DS200\\Hashtag Analysis\\IE403.P21_Social_Media_Data_Mining\\finalProject\\data\\recrawled_user_video_part_5.csv\")\n",
    "part6.to_csv(r\"D:\\UIT\\DS200\\Hashtag Analysis\\IE403.P21_Social_Media_Data_Mining\\finalProject\\data\\recrawled_user_video_part_6.csv\")\n",
    "part7.to_csv(r\"D:\\UIT\\DS200\\Hashtag Analysis\\IE403.P21_Social_Media_Data_Mining\\finalProject\\data\\recrawled_user_video_part_7.csv\")\n",
    "part8.to_csv(r\"D:\\UIT\\DS200\\Hashtag Analysis\\IE403.P21_Social_Media_Data_Mining\\finalProject\\data\\recrawled_user_video_part_8.csv\")\n"
   ]
  },
  {
   "cell_type": "code",
   "execution_count": 10,
   "id": "5cd6c784",
   "metadata": {},
   "outputs": [],
   "source": [
    "import pandas as pd\n",
    "\n",
    "df = pd.read_csv(r\"D:\\UIT\\DS200\\IE403\\IE403.P21_Social_Media_Data_Mining\\full_recrawl_final.csv\")"
   ]
  },
  {
   "cell_type": "code",
   "execution_count": 6,
   "id": "77635e7a",
   "metadata": {},
   "outputs": [],
   "source": [
    "df_user = pd.read_csv(r\"D:\\UIT\\DS200\\IE403\\IE403.P21_Social_Media_Data_Mining\\finalProject\\data\\preprocessed_top_viral.csv\")"
   ]
  },
  {
   "cell_type": "code",
   "execution_count": 8,
   "id": "b0ce94c7",
   "metadata": {},
   "outputs": [],
   "source": [
    "# Lấy danh sách user_id duy nhất trong file 2\n",
    "unique_user_ids = df['user_name'].unique()\n",
    "\n",
    "# Lọc file1 với điều kiện user_id nằm trong danh sách từ file2\n",
    "filtered_file1 = df_user[df_user['user_name'].isin(unique_user_ids)]\n",
    "\n",
    "# Ghi ra file mới\n",
    "filtered_file1.to_csv(r\"D:\\UIT\\DS200\\IE403\\IE403.P21_Social_Media_Data_Mining\\finalProject\\results\\filtered_user.csv\", index=False)"
   ]
  },
  {
   "cell_type": "code",
   "execution_count": 23,
   "id": "f51b4b6e",
   "metadata": {},
   "outputs": [],
   "source": [
    "df.at[753, 'user_nfollower'] = 1122\n"
   ]
  },
  {
   "cell_type": "code",
   "execution_count": 36,
   "id": "766ff4df",
   "metadata": {},
   "outputs": [],
   "source": [
    "df.at[5280, 'user_nfollower'] = df.at[20700, 'user_nfollower']"
   ]
  },
  {
   "cell_type": "code",
   "execution_count": 19,
   "id": "be93bd54",
   "metadata": {},
   "outputs": [
    {
     "data": {
      "text/plain": [
       "Index(['Unnamed: 0', 'user_name', 'user_nfollower', 'vid_id', 'vid_caption',\n",
       "       'vid_postTime', 'vid_scrapeTime', 'vid_duration', 'vid_nview',\n",
       "       'vid_nlike', 'vid_ncomment', 'vid_nshare', 'vid_nsave', 'vid_hashtags',\n",
       "       'vid_url', 'music_id', 'music_title', 'music_nused', 'music_authorName',\n",
       "       'music_originality', 'vid_desc_clean', 'vid_hashtags_normalized',\n",
       "       'hashtag_count', 'vid_duration_sec', 'vid_existtime_hrs', 'post_hour',\n",
       "       'post_day', 'viral_score'],\n",
       "      dtype='object')"
      ]
     },
     "execution_count": 19,
     "metadata": {},
     "output_type": "execute_result"
    }
   ],
   "source": [
    "df.columns"
   ]
  },
  {
   "cell_type": "code",
   "execution_count": 37,
   "id": "a8ae5c2d",
   "metadata": {},
   "outputs": [
    {
     "data": {
      "text/html": [
       "<div>\n",
       "<style scoped>\n",
       "    .dataframe tbody tr th:only-of-type {\n",
       "        vertical-align: middle;\n",
       "    }\n",
       "\n",
       "    .dataframe tbody tr th {\n",
       "        vertical-align: top;\n",
       "    }\n",
       "\n",
       "    .dataframe thead th {\n",
       "        text-align: right;\n",
       "    }\n",
       "</style>\n",
       "<table border=\"1\" class=\"dataframe\">\n",
       "  <thead>\n",
       "    <tr style=\"text-align: right;\">\n",
       "      <th></th>\n",
       "      <th>Unnamed: 0</th>\n",
       "      <th>user_name</th>\n",
       "      <th>user_nfollower</th>\n",
       "      <th>vid_id</th>\n",
       "      <th>vid_caption</th>\n",
       "      <th>vid_postTime</th>\n",
       "      <th>vid_scrapeTime</th>\n",
       "      <th>vid_duration</th>\n",
       "      <th>vid_nview</th>\n",
       "      <th>vid_nlike</th>\n",
       "      <th>...</th>\n",
       "      <th>music_authorName</th>\n",
       "      <th>music_originality</th>\n",
       "      <th>vid_desc_clean</th>\n",
       "      <th>vid_hashtags_normalized</th>\n",
       "      <th>hashtag_count</th>\n",
       "      <th>vid_duration_sec</th>\n",
       "      <th>vid_existtime_hrs</th>\n",
       "      <th>post_hour</th>\n",
       "      <th>post_day</th>\n",
       "      <th>viral_score</th>\n",
       "    </tr>\n",
       "  </thead>\n",
       "  <tbody>\n",
       "  </tbody>\n",
       "</table>\n",
       "<p>0 rows × 28 columns</p>\n",
       "</div>"
      ],
      "text/plain": [
       "Empty DataFrame\n",
       "Columns: [Unnamed: 0, user_name, user_nfollower, vid_id, vid_caption, vid_postTime, vid_scrapeTime, vid_duration, vid_nview, vid_nlike, vid_ncomment, vid_nshare, vid_nsave, vid_hashtags, vid_url, music_id, music_title, music_nused, music_authorName, music_originality, vid_desc_clean, vid_hashtags_normalized, hashtag_count, vid_duration_sec, vid_existtime_hrs, post_hour, post_day, viral_score]\n",
       "Index: []\n",
       "\n",
       "[0 rows x 28 columns]"
      ]
     },
     "execution_count": 37,
     "metadata": {},
     "output_type": "execute_result"
    }
   ],
   "source": [
    "df_user_0 = df[df['user_nfollower'] == 0]\n",
    "df_user_0_name = df_user_0['user_name'].unique()\n",
    "df_user_0 = df[df['user_name'].isin(df_user_0_name)]\n",
    "df_user_0"
   ]
  },
  {
   "cell_type": "code",
   "execution_count": 39,
   "id": "6bd41257",
   "metadata": {},
   "outputs": [],
   "source": [
    "df.to_csv(r\"D:\\UIT\\DS200\\IE403\\IE403.P21_Social_Media_Data_Mining\\full_recrawl_final.csv\")"
   ]
  },
  {
   "cell_type": "code",
   "execution_count": 41,
   "id": "67abe32f",
   "metadata": {},
   "outputs": [
    {
     "data": {
      "text/plain": [
       "Index(['user_name', 'user_nfollower', 'vid_id', 'vid_caption', 'vid_postTime',\n",
       "       'vid_scrapeTime', 'vid_duration', 'vid_nview', 'vid_nlike',\n",
       "       'vid_ncomment', 'vid_nshare', 'vid_nsave', 'vid_hashtags', 'vid_url',\n",
       "       'music_id', 'music_title', 'music_nused', 'music_authorName',\n",
       "       'music_originality', 'vid_desc_clean', 'vid_hashtags_normalized',\n",
       "       'hashtag_count', 'vid_duration_sec', 'vid_existtime_hrs', 'post_hour',\n",
       "       'post_day', 'viral_score'],\n",
       "      dtype='object')"
      ]
     },
     "execution_count": 41,
     "metadata": {},
     "output_type": "execute_result"
    }
   ],
   "source": [
    "df_user.columns"
   ]
  },
  {
   "cell_type": "code",
   "execution_count": null,
   "id": "60a84ef5",
   "metadata": {},
   "outputs": [],
   "source": [
    "_"
   ]
  }
 ],
 "metadata": {
  "kernelspec": {
   "display_name": "base",
   "language": "python",
   "name": "python3"
  },
  "language_info": {
   "codemirror_mode": {
    "name": "ipython",
    "version": 3
   },
   "file_extension": ".py",
   "mimetype": "text/x-python",
   "name": "python",
   "nbconvert_exporter": "python",
   "pygments_lexer": "ipython3",
   "version": "3.11.7"
  }
 },
 "nbformat": 4,
 "nbformat_minor": 5
}
